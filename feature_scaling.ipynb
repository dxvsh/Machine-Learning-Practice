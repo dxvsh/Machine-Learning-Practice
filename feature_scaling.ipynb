{
 "cells": [
  {
   "cell_type": "code",
   "execution_count": 16,
   "metadata": {},
   "outputs": [],
   "source": [
    "import numpy as np"
   ]
  },
  {
   "cell_type": "markdown",
   "metadata": {},
   "source": [
    "### Feature Scaling - Important Preprocessing Step\n",
    "\n",
    "Numerical features with different scales leads to slower convergence of iterative optimization procedures.\n",
    "\n",
    "It is a good practice to scale numerical features so that all of them are on the same scale. We want all our features to be on a similar scale, so that no one feature has a disproportionately large say/weight in making the predictions.\n",
    "\n",
    "+ Feature scaling **enables faster convergence** in iterative optimization algorithms like gradient descent and its variants\n",
    "+ The performance of algorithms like SVM, K-NN, and K-means etc that compute euclidean distance among input samples gets impacted if the features are not scaled\n",
    "\n",
    "Note: **Tree based** ML algorithms are not affected by feature-scaling. In other words, feature scaling is not required for tree based ML algorithms.\n",
    "\n",
    "Feature Scaling is only performed on numerical attributes.\n",
    "\n",
    "Sklearn provides three APIs for feature scaling:\n",
    "+ StandardScaler\n",
    "+ MinMaxScaler\n",
    "+ MaxAbsScaler\n"
   ]
  },
  {
   "cell_type": "markdown",
   "metadata": {},
   "source": [
    "#### Standard Scaler\n",
    "\n",
    "The standard scaler transforms the original feature vector $x$ into a new scaled feature $x'$ using the following formula:\n",
    "$$ x' = \\frac{x - \\mu}{\\sigma} $$\n",
    "\n",
    "The transformed feature vector $x'$ has mean($\\mu$) = 0 and standard deviation ($\\sigma$)=1\n",
    "\n",
    "The standard scaler does not bind the transformed values to any particular range."
   ]
  },
  {
   "cell_type": "code",
   "execution_count": 17,
   "metadata": {},
   "outputs": [
    {
     "name": "stdout",
     "output_type": "stream",
     "text": [
      "[[-1.34164079 -1.34164079]\n",
      " [-0.4472136  -0.4472136 ]\n",
      " [ 0.4472136   0.4472136 ]\n",
      " [ 1.34164079  1.34164079]]\n"
     ]
    }
   ],
   "source": [
    "from sklearn.preprocessing import StandardScaler\n",
    "\n",
    "# Assume we have a dataset with two numerical features: 'age' and 'income'\n",
    "data = [[30, 50000], [40, 60000], [50, 70000], [60, 80000]]\n",
    "\n",
    "# Create an instance of StandardScaler\n",
    "scaler = StandardScaler()\n",
    "\n",
    "# Fit the scaler to the dataset and transform the dataset\n",
    "scaled_data = scaler.fit_transform(data)\n",
    "\n",
    "# Print the scaled dataset\n",
    "print(scaled_data)\n"
   ]
  },
  {
   "cell_type": "markdown",
   "metadata": {},
   "source": [
    "#### MinMaxScaler\n",
    "\n",
    "It transforms the original feature vector $X$ into a new feature vector $X'$ so that all the values fall within range [0,1]\n",
    "using the formula: \n",
    "\n",
    "$$\\frac{x - min(x)}{max(x)-min(x)}$$\n",
    "\n",
    "The transformed values all lie in the range [0,1]\n",
    "\n",
    "The smallest value is transformed to 0 and the largest is transformed to 1 and the rest lie b/w 0 and 1."
   ]
  },
  {
   "cell_type": "code",
   "execution_count": 18,
   "metadata": {},
   "outputs": [
    {
     "name": "stdout",
     "output_type": "stream",
     "text": [
      "[[   30 50000]\n",
      " [   40 60000]\n",
      " [   50 70000]\n",
      " [   60 80000]]\n"
     ]
    },
    {
     "data": {
      "text/plain": [
       "array([[0.        , 0.        ],\n",
       "       [0.33333333, 0.33333333],\n",
       "       [0.66666667, 0.66666667],\n",
       "       [1.        , 1.        ]])"
      ]
     },
     "execution_count": 18,
     "metadata": {},
     "output_type": "execute_result"
    }
   ],
   "source": [
    "from sklearn.preprocessing import MinMaxScaler\n",
    "\n",
    "print(np.matrix(data))\n",
    "\n",
    "# create a MinMaxScaler object and transform the data using it\n",
    "scaler = MinMaxScaler()\n",
    "scaler.fit_transform(data)"
   ]
  },
  {
   "cell_type": "markdown",
   "metadata": {},
   "source": [
    "#### MaxAbsScaler\n",
    "\n",
    "It transforms the original feature vector $X$ into a new feature vector $X'$ so that all the values fall within range [-1,1]\n",
    "using the formula: \n",
    "\n",
    "$$\\frac{x}{MaxAbsoluteValue}$$\n",
    "\n",
    "Divide each value of the feature by the maximum absolute value of the feature"
   ]
  },
  {
   "cell_type": "code",
   "execution_count": 19,
   "metadata": {},
   "outputs": [
    {
     "name": "stdout",
     "output_type": "stream",
     "text": [
      "[[   30 50000]\n",
      " [   40 60000]\n",
      " [   50 70000]\n",
      " [   60 80000]]\n"
     ]
    },
    {
     "data": {
      "text/plain": [
       "array([[0.5       , 0.625     ],\n",
       "       [0.66666667, 0.75      ],\n",
       "       [0.83333333, 0.875     ],\n",
       "       [1.        , 1.        ]])"
      ]
     },
     "execution_count": 19,
     "metadata": {},
     "output_type": "execute_result"
    }
   ],
   "source": [
    "from sklearn.preprocessing import MaxAbsScaler\n",
    "\n",
    "print(np.matrix(data))\n",
    "\n",
    "scaler = MaxAbsScaler()\n",
    "scaler.fit_transform(data)"
   ]
  },
  {
   "cell_type": "markdown",
   "metadata": {},
   "source": [
    "#### FunctionTransformer\n",
    "\n",
    "Constructs transformed features by applying a user deﬁned function."
   ]
  },
  {
   "cell_type": "code",
   "execution_count": 20,
   "metadata": {},
   "outputs": [
    {
     "name": "stdout",
     "output_type": "stream",
     "text": [
      "[[128   2]\n",
      " [  2 256]\n",
      " [  4   1]\n",
      " [512  64]]\n"
     ]
    }
   ],
   "source": [
    "from sklearn.preprocessing import FunctionTransformer\n",
    "\n",
    "X = np.array([[128, 2], [2, 256], [4, 1], [512, 64]])\n",
    "\n",
    "print(np.matrix(X))"
   ]
  },
  {
   "cell_type": "code",
   "execution_count": 21,
   "metadata": {},
   "outputs": [
    {
     "data": {
      "text/plain": [
       "array([[7., 1.],\n",
       "       [1., 8.],\n",
       "       [2., 0.],\n",
       "       [9., 6.]])"
      ]
     },
     "execution_count": 21,
     "metadata": {},
     "output_type": "execute_result"
    }
   ],
   "source": [
    "# Create a function transformer\n",
    "ft = FunctionTransformer(np.log2) # we're specifying the log base 2 function to be used for transforming the features\n",
    "\n",
    "ft.fit_transform(X)"
   ]
  },
  {
   "cell_type": "markdown",
   "metadata": {},
   "source": [
    "#### Polynomial Transformation\n",
    "\n",
    "Generates a new feature matrix consisting of all polynomial\n",
    "combinations of the features with degree less than or equal\n",
    "to the speciﬁed degree.\n",
    "\n",
    "For example, `PolynomialFeatures` with degree 2 transforms $X = [x_1 , x_2 ]$ into\n",
    "$$X^′ = [1, x_1 , x_2 , x_1^2 , x_1x_2, x_2^2 ]$$\n",
    "\n",
    "\n",
    "PolynomialFeatures are used to add complex features to the dataset."
   ]
  },
  {
   "cell_type": "code",
   "execution_count": 22,
   "metadata": {},
   "outputs": [
    {
     "data": {
      "text/plain": [
       "matrix([[2, 3],\n",
       "        [4, 5],\n",
       "        [6, 7]])"
      ]
     },
     "execution_count": 22,
     "metadata": {},
     "output_type": "execute_result"
    }
   ],
   "source": [
    "X = np.array([[2, 3],[4, 5],[6,7]])\n",
    "np.matrix(X)"
   ]
  },
  {
   "cell_type": "code",
   "execution_count": 23,
   "metadata": {},
   "outputs": [
    {
     "data": {
      "text/plain": [
       "array([[ 1.,  2.,  3.,  4.,  6.,  9.],\n",
       "       [ 1.,  4.,  5., 16., 20., 25.],\n",
       "       [ 1.,  6.,  7., 36., 42., 49.]])"
      ]
     },
     "execution_count": 23,
     "metadata": {},
     "output_type": "execute_result"
    }
   ],
   "source": [
    "from sklearn.preprocessing import PolynomialFeatures\n",
    "\n",
    "pf = PolynomialFeatures(degree=2)\n",
    "pf.fit_transform(X)"
   ]
  }
 ],
 "metadata": {
  "kernelspec": {
   "display_name": "venv",
   "language": "python",
   "name": "python3"
  },
  "language_info": {
   "codemirror_mode": {
    "name": "ipython",
    "version": 3
   },
   "file_extension": ".py",
   "mimetype": "text/x-python",
   "name": "python",
   "nbconvert_exporter": "python",
   "pygments_lexer": "ipython3",
   "version": "3.10.13"
  }
 },
 "nbformat": 4,
 "nbformat_minor": 2
}
