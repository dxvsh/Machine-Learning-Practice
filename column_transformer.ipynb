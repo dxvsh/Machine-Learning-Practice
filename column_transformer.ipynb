{
 "cells": [
  {
   "cell_type": "markdown",
   "metadata": {},
   "source": [
    "### Composite Transformers\n",
    "\n",
    "+ Generally, training data contains diverse features such as numerical and categorical. \n",
    "+ Different feature types need to be processed with different transformers\n",
    "+ So, we need a way to combine different feature transformers seamlessly\n",
    "\n",
    "`sklearn.compose` has useful classes and methods to apply transformations on a subset of features and combine them\n",
    "+ ColumnTransformer\n",
    "+ TransformedTargetRegressor\n",
    "\n",
    "#### ColumnTransformer\n",
    "+ We can use the column transformer to apply different transformations on each of the different columns\n",
    "+ The ColumnTransformer applies a set of transformers to columns of an array or `pandas.DataFrame`, concatenates the transformed outpute from different transformers into a single matrix.\n",
    "+ Its useful for transforming heterogenous data by applying different transformers to separate subsets of features\n",
    "+ ColumnTransformer serve a very different purpose compared to Pipelines, they're used to selectively apply different transformations to different columns whereas Pipelines are used for applying transformations step by step, sequentially.\n",
    "\n",
    "\n",
    "Each tuple in the ColumnTransformer is of the following format: `(estimatorName, estimator(...), columnIndex)`"
   ]
  },
  {
   "cell_type": "code",
   "execution_count": 1,
   "metadata": {},
   "outputs": [
    {
     "data": {
      "text/plain": [
       "array([['20.0', 'male'],\n",
       "       ['11.2', 'female'],\n",
       "       ['15.6', 'female'],\n",
       "       ['13.0', 'male'],\n",
       "       ['18.6', 'male'],\n",
       "       ['16.4', 'female']], dtype='<U32')"
      ]
     },
     "execution_count": 1,
     "metadata": {},
     "output_type": "execute_result"
    }
   ],
   "source": [
    "import numpy as np\n",
    "import pandas as pd\n",
    "\n",
    "# Example usage of the ColumnTransformer\n",
    "X = np.array([[20.0, 11.2, 15.6, 13.0, 18.6, 16.4], \n",
    "            ['male', 'female', 'female', 'male', 'male', 'female']]).T\n",
    "X\n",
    "\n",
    "# Here the first column represents the age, and the second column is for the gender"
   ]
  },
  {
   "cell_type": "code",
   "execution_count": 5,
   "metadata": {},
   "outputs": [
    {
     "data": {
      "text/plain": [
       "array([[1.  , 0.  , 1.  ],\n",
       "       [0.56, 1.  , 0.  ],\n",
       "       [0.78, 1.  , 0.  ],\n",
       "       [0.65, 0.  , 1.  ],\n",
       "       [0.93, 0.  , 1.  ],\n",
       "       [0.82, 1.  , 0.  ]])"
      ]
     },
     "execution_count": 5,
     "metadata": {},
     "output_type": "execute_result"
    }
   ],
   "source": [
    "from sklearn.compose import ColumnTransformer\n",
    "from sklearn.preprocessing import MaxAbsScaler\n",
    "from sklearn.preprocessing import OneHotEncoder\n",
    "from sklearn.impute import SimpleImputer\n",
    "\n",
    "# suppose we want to apply the MaxAbsScaler on the first column for age\n",
    "# and we want to one-hot encode the second column for gender\n",
    "\n",
    "column_trans = ColumnTransformer([('ageScaler', MaxAbsScaler(), [0]), \n",
    "                                ('genderEncoder', OneHotEncoder(dtype='int'), [1])])\n",
    "column_trans.fit_transform(X)"
   ]
  },
  {
   "cell_type": "markdown",
   "metadata": {},
   "source": [
    "#### Drop and Passthrough in ColumnTransformer\n",
    "\n",
    "With \"drop\" and \"passthrough\" keywords, we can specify whether we just want to drop a column entirely during transformation or just skip transforming it and leave it as is."
   ]
  },
  {
   "cell_type": "code",
   "execution_count": 17,
   "metadata": {},
   "outputs": [],
   "source": [
    "testdf = pd.DataFrame({\n",
    "    \"A\":[1, 2, np.nan],\n",
    "    \"B\":[10, 20, 30],\n",
    "    \"C\":[100, 200, 300],\n",
    "    \"D\":[1000, 2000, 3000],\n",
    "    \"E\":[10000, 20000, 30000]\n",
    "})"
   ]
  },
  {
   "cell_type": "code",
   "execution_count": 18,
   "metadata": {},
   "outputs": [
    {
     "data": {
      "text/html": [
       "<div>\n",
       "<style scoped>\n",
       "    .dataframe tbody tr th:only-of-type {\n",
       "        vertical-align: middle;\n",
       "    }\n",
       "\n",
       "    .dataframe tbody tr th {\n",
       "        vertical-align: top;\n",
       "    }\n",
       "\n",
       "    .dataframe thead th {\n",
       "        text-align: right;\n",
       "    }\n",
       "</style>\n",
       "<table border=\"1\" class=\"dataframe\">\n",
       "  <thead>\n",
       "    <tr style=\"text-align: right;\">\n",
       "      <th></th>\n",
       "      <th>A</th>\n",
       "      <th>B</th>\n",
       "      <th>C</th>\n",
       "      <th>D</th>\n",
       "      <th>E</th>\n",
       "    </tr>\n",
       "  </thead>\n",
       "  <tbody>\n",
       "    <tr>\n",
       "      <th>0</th>\n",
       "      <td>1.0</td>\n",
       "      <td>10</td>\n",
       "      <td>100</td>\n",
       "      <td>1000</td>\n",
       "      <td>10000</td>\n",
       "    </tr>\n",
       "    <tr>\n",
       "      <th>1</th>\n",
       "      <td>2.0</td>\n",
       "      <td>20</td>\n",
       "      <td>200</td>\n",
       "      <td>2000</td>\n",
       "      <td>20000</td>\n",
       "    </tr>\n",
       "    <tr>\n",
       "      <th>2</th>\n",
       "      <td>NaN</td>\n",
       "      <td>30</td>\n",
       "      <td>300</td>\n",
       "      <td>3000</td>\n",
       "      <td>30000</td>\n",
       "    </tr>\n",
       "  </tbody>\n",
       "</table>\n",
       "</div>"
      ],
      "text/plain": [
       "     A   B    C     D      E\n",
       "0  1.0  10  100  1000  10000\n",
       "1  2.0  20  200  2000  20000\n",
       "2  NaN  30  300  3000  30000"
      ]
     },
     "execution_count": 18,
     "metadata": {},
     "output_type": "execute_result"
    }
   ],
   "source": [
    "testdf"
   ]
  },
  {
   "cell_type": "markdown",
   "metadata": {},
   "source": [
    "+ Using passthrough, I can specify that i dont want these columns to be touched in the transformation, just leave them as they are in the final output.\n",
    "+ Using drop, I can specify that i dont want these columns to be included in the final output, just drop them."
   ]
  },
  {
   "cell_type": "code",
   "execution_count": 12,
   "metadata": {},
   "outputs": [],
   "source": [
    "ct = ColumnTransformer([\n",
    "    (\"imputer\", SimpleImputer(strategy=\"mean\"), [\"A\"]), # impute this column and fill missing value\n",
    "    (\"do nothing\", \"passthrough\", [\"B\", \"C\"]),          # just pass through these columns without doing anything\n",
    "], remainder=\"drop\")                                    # drop the remaining columns, don't include them "
   ]
  },
  {
   "cell_type": "code",
   "execution_count": 13,
   "metadata": {},
   "outputs": [
    {
     "data": {
      "text/plain": [
       "array([[  1. ,  10. , 100. ],\n",
       "       [  2. ,  20. , 200. ],\n",
       "       [  1.5,  30. , 300. ]])"
      ]
     },
     "execution_count": 13,
     "metadata": {},
     "output_type": "execute_result"
    }
   ],
   "source": [
    "ct.fit_transform(testdf)"
   ]
  },
  {
   "cell_type": "markdown",
   "metadata": {},
   "source": [
    "Another way of achieving the same effect"
   ]
  },
  {
   "cell_type": "code",
   "execution_count": 14,
   "metadata": {},
   "outputs": [],
   "source": [
    "ct = ColumnTransformer([\n",
    "    (\"imputer\", SimpleImputer(strategy=\"mean\"), [0]), # impute this column and fill missing values\n",
    "    (\"dont include\", \"drop\", [3, 4])                  # drop the columns at index 3, 4. dont include them\n",
    "], remainder=\"passthrough\")                           # passthrough the remaining columns"
   ]
  },
  {
   "cell_type": "code",
   "execution_count": 15,
   "metadata": {},
   "outputs": [
    {
     "data": {
      "text/plain": [
       "array([[  1. ,  10. , 100. ],\n",
       "       [  2. ,  20. , 200. ],\n",
       "       [  1.5,  30. , 300. ]])"
      ]
     },
     "execution_count": 15,
     "metadata": {},
     "output_type": "execute_result"
    }
   ],
   "source": [
    "ct.fit_transform(testdf)"
   ]
  }
 ],
 "metadata": {
  "kernelspec": {
   "display_name": "venv",
   "language": "python",
   "name": "python3"
  },
  "language_info": {
   "codemirror_mode": {
    "name": "ipython",
    "version": 3
   },
   "file_extension": ".py",
   "mimetype": "text/x-python",
   "name": "python",
   "nbconvert_exporter": "python",
   "pygments_lexer": "ipython3",
   "version": "3.10.13"
  }
 },
 "nbformat": 4,
 "nbformat_minor": 2
}
