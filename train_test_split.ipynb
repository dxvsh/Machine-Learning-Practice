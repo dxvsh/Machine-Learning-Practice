{
 "cells": [
  {
   "cell_type": "markdown",
   "metadata": {},
   "source": [
    "## Train-test Split \n",
    "\n",
    "You can split your dataset into a training set and a test set using the `train_test_split` function from `sklearn`\n",
    "\n",
    "You can now train your model with the training set and test it on the unseen test set.\n",
    "\n",
    "Useful parameters of the `train_test_split` function:\n",
    "- `test_size` (float): specify the size of the test set (between 0.0 and 1.0). Eg: 0.2 would reserve 20% of the dataset as the test set and use 80% as training set\n",
    "- `random_state` (int): controls the randomness in the train and test split. Pass an integer for reproducible output across multiple function calls\n",
    "\n",
    "The `random_state` parameter is very important because if you don't use it, the train and test split will be different each time you run the function. To make sure the split remains the same each time, pass an integer value for the random_state. Popular values for the integer seed are 0 and 42 (from Hitchhiker's guide to the galaxy)\n",
    "\n",
    "This is very important for debugging and reproducibility, you want the train and test split to be the exact same whenever the function is run.\n"
   ]
  },
  {
   "cell_type": "code",
   "execution_count": 3,
   "metadata": {},
   "outputs": [
    {
     "data": {
      "text/plain": [
       "[[4, 2, 6, 5, 3, 9, 8, 10], [7, 1]]"
      ]
     },
     "execution_count": 3,
     "metadata": {},
     "output_type": "execute_result"
    }
   ],
   "source": [
    "# a very quick and basic example of train and test split using sklearn\n",
    "\n",
    "from sklearn.model_selection import train_test_split\n",
    "\n",
    "quick_test_dataset = [1,2,3,4,5,6,7,8,9,10]\n",
    "\n",
    "# splits this dataset into a train and a test set \n",
    "train_test_split(quick_test_dataset, test_size=0.2)\n",
    "\n",
    "# observe that the split is different each time the function is run because random_state hasn't been specified"
   ]
  },
  {
   "cell_type": "code",
   "execution_count": 4,
   "metadata": {},
   "outputs": [
    {
     "data": {
      "text/plain": [
       "[[6, 1, 8, 3, 10, 5, 4, 7], [9, 2]]"
      ]
     },
     "execution_count": 4,
     "metadata": {},
     "output_type": "execute_result"
    }
   ],
   "source": [
    "# split with random_state makes sure that the split remains the same across different runs of the function!\n",
    "\n",
    "train_test_split(quick_test_dataset, random_state=42, test_size=0.2)\n",
    "\n",
    "# the split doesn't change in this case!\n"
   ]
  },
  {
   "cell_type": "code",
   "execution_count": 5,
   "metadata": {},
   "outputs": [
    {
     "data": {
      "text/plain": [
       "(array([[ 1,  2],\n",
       "        [ 3,  4],\n",
       "        [ 5,  6],\n",
       "        [ 7,  8],\n",
       "        [ 9, 10],\n",
       "        [11, 12],\n",
       "        [13, 14],\n",
       "        [15, 16],\n",
       "        [17, 18],\n",
       "        [19, 20],\n",
       "        [21, 22],\n",
       "        [23, 24]]),\n",
       " array([1, 1, 0, 1, 1, 0, 1, 1, 1, 0, 0, 1]))"
      ]
     },
     "execution_count": 5,
     "metadata": {},
     "output_type": "execute_result"
    }
   ],
   "source": [
    "# Another example\n",
    "import numpy as np\n",
    "\n",
    "# let's try creating a fake synthetic classification dataset and try the train-test split on it\n",
    "X = np.arange(1, 25).reshape(12, 2)\n",
    "Y = np.array([1, 1, 0, 1, 1, 0, 1, 1, 1, 0, 0, 1])\n",
    "\n",
    "# here X has 12 data points in R2\n",
    "# and Y contains the labels (0 or 1)\n",
    "\n",
    "X,Y"
   ]
  },
  {
   "cell_type": "code",
   "execution_count": 6,
   "metadata": {},
   "outputs": [
    {
     "name": "stdout",
     "output_type": "stream",
     "text": [
      "X Train: [[21 22]\n",
      " [ 5  6]\n",
      " [17 18]\n",
      " [ 3  4]\n",
      " [15 16]\n",
      " [19 20]\n",
      " [ 7  8]\n",
      " [ 1  2]\n",
      " [11 12]] X Train Shape: (9, 2)\n",
      "X Test: [[13 14]\n",
      " [23 24]\n",
      " [ 9 10]] X Test Shape: (3, 2)\n",
      "Y Train: [0 0 1 1 1 0 1 1 0] Y Train Shape (9,)\n",
      "Y Test: [1 1 1] Y Test Shape (3,)\n"
     ]
    }
   ],
   "source": [
    "# splitting this dataset using train test split\n",
    "X_train, X_test, Y_train, Y_test = train_test_split(X,Y, test_size=0.2, random_state=0) # the test dataset is 20% of the original\n",
    "\n",
    "print(\"X Train:\", X_train, \"X Train Shape:\", X_train.shape)\n",
    "print(\"X Test:\", X_test, \"X Test Shape:\", X_test.shape)\n",
    "print(\"Y Train:\", Y_train, \"Y Train Shape\", Y_train.shape)\n",
    "print(\"Y Test:\", Y_test, \"Y Test Shape\", Y_test.shape)"
   ]
  }
 ],
 "metadata": {
  "kernelspec": {
   "display_name": "venv",
   "language": "python",
   "name": "python3"
  },
  "language_info": {
   "codemirror_mode": {
    "name": "ipython",
    "version": 3
   },
   "file_extension": ".py",
   "mimetype": "text/x-python",
   "name": "python",
   "nbconvert_exporter": "python",
   "pygments_lexer": "ipython3",
   "version": "3.10.13"
  }
 },
 "nbformat": 4,
 "nbformat_minor": 2
}
